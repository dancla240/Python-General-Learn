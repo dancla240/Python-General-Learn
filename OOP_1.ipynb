{
 "cells": [
  {
   "cell_type": "markdown",
   "id": "84a1c811",
   "metadata": {},
   "source": [
    "## OOP\n",
    "- mina anteckningar för OOP<br>\n",
    "['Geek for Geeks'](https://www.geeksforgeeks.org/python/python-oops-concepts/)"
   ]
  },
  {
   "cell_type": "markdown",
   "id": "72b85fa5",
   "metadata": {},
   "source": [
    "### Basics\n",
    "- Objektorientering innebär att man hanterar sin kod med objekt.\n",
    "- I python definierar man \"klasser\" med class kommandot.\n",
    "- I klassen definieras class variables, instance variables och methods\n",
    "- Ett \"objekt\" är en instans av en klass (\"an object is an instance of a class\").\n",
    "- Från en klass kan hur många instanser som helst skapas\n",
    "- I objektorientering finns ett antal koncept:\n",
    "    - Arv (inheritance):\n",
    "    - Inkappsling (encapsulation):\n",
    "    - Polymorphism\n",
    "    - "
   ]
  },
  {
   "cell_type": "markdown",
   "id": "bfb1c49d",
   "metadata": {},
   "source": [
    "### Self parameter\n",
    "- *self* parametern är en referens till den nuvarande instansen av klassen.\n",
    "### init-metoden\n",
    "- init-metoden är konstruktorn i Python, som kallas automatiskt när ett nytt objekt skapas. Den initialisear instansens attribut. Om klassen inte har attribut, kan denna uteslutas."
   ]
  },
  {
   "cell_type": "markdown",
   "id": "fc11f9d1",
   "metadata": {},
   "source": [
    "### metoder\n",
    "- vanliga metoder tar som första argument instansen av klassen, dvs *self*\n",
    "```\n",
    "def calc_new_pay(self, raise)\n",
    "    self.pay = self.pay * raise\n",
    "```\n",
    "\n",
    "### Class method\n",
    "- en klass metod tar som argument en klass\n",
    "- man indikerar ett en metod är en class method genom decorator classmethod\n",
    "- 'cls' står för 'class', på samma sätt som self står för instans av objektet\n",
    "- class methods kan användas som alternativa constructors\n",
    "```\n",
    "@classmethod\n",
    "def change_amount(cls, amount)\n",
    "    cls.amount = amount\n",
    "```\n",
    "### Static Methods\n",
    "- tar varken instans-objektet eller klassen som input argument\n",
    "- beter sig som vanliga funktioner, men inkluderas i klassen eftersom de har en logisk koppling till den\n",
    "- tumregel är att om man inte använder vare sig *self* eller *cls* i metoden, så är det en static method\n",
    "```\n",
    "@staticmethod\n",
    "def something():"
   ]
  },
  {
   "cell_type": "markdown",
   "id": "ca5f07ef",
   "metadata": {},
   "source": [
    "#### Instance variables\n",
    "- är unika för varje instans av klassen.\n",
    "- 'Skapas' vid instantieringen av objektet, via konstruktorn\n",
    "#### Class variables\n",
    "- är gemensamma för alla instanser av klassen. Dvs, de är attribut (variabler) som gäller för 'classes', som sedan kommer ha samma värde för all instanser av objektet.\n",
    "- Class vairables är åtkomstbara även från alla instanser av objektet\n",
    "#### Print \"namespace\" av en instans:\n",
    "- om man vill veta vilka attribut ett objekt har, skriv:\n",
    "```print(object_name.__name__)```\n",
    "- Observera dock att \"class variables\" inte syns här! Men om man gör ```print(ClassName.__name__)``` så kommer class variables att synas!\n",
    "- **Viktigt koncept** är att om man ändrar värdet av en class variable, i den ursprungliga klassen, så ändras det även i alla instanser av objektet!\n",
    "- Men man kan också ändra klassvariabeln i en unik instans av objektet, och då ändras bara den instansen! Samt, denna variabeln kommer synas i namespacet för den instansen av objektet!\n"
   ]
  },
  {
   "cell_type": "markdown",
   "id": "2641436b",
   "metadata": {},
   "source": [
    "### Inheritance:\n",
    "- gör att vi kan ärva properties och metoder från en \"parent class\"\n",
    "#### Subclasses:\n",
    "- Subklasser ärver från en parent class: (Den kommer vara exakt som parnet klassen)\n",
    "```\n",
    "class Developer(Emplyee):\n",
    "    pass\n",
    "```\n",
    "- En anledning till att subclassa en parent klass är att man kan ändra funktionen för tex en metod eller addera nya attribut.\n",
    "- Obs, om man adderar nya attribut till subklassen, så ska subklassen ha sin egna instansmetod för det!\n",
    "```\n",
    "class Developer(Emplyee):\n",
    "    def __init__(self, first, last, pay, prog_langs)\n",
    "        super().__init__(first, last, pay) #ärver dessa init från parent klassen\n",
    "        self.prog_langs = prog_langs\n",
    "```\n",
    "#### isinstance\n",
    "- man kan kolla om en instans av ev klass kommer från en klass:\n",
    "```\n",
    "isinstance(dev_1, Developer) # True\n",
    "```\n",
    "#### issubclass\n",
    "- man kan också kolla om en klass är en subklass till en annan klass\n",
    "```\n",
    "issubclass(Developer, Employee) # True\n",
    "```"
   ]
  },
  {
   "cell_type": "markdown",
   "id": "d21bfdf6",
   "metadata": {},
   "source": [
    "#### method resolution order\n",
    "- Man kan få hjälp med att se hur klasserna hänger ihop, skriv bara nedan:\n",
    "```\n",
    "print(help(Developer))\n",
    "```"
   ]
  },
  {
   "cell_type": "markdown",
   "id": "a16902aa",
   "metadata": {},
   "source": [
    "### Special Methods\n",
    "- dundermethods\n",
    "- tex: str, repr, init\n",
    "- '__repr__' för loggning?"
   ]
  },
  {
   "cell_type": "markdown",
   "id": "c2707d13",
   "metadata": {},
   "source": [
    "### Accessa andra klassers special methods\n",
    "- tex instansobjekt av str och int har special methods, som man kan kalla på direkt:<br>\n",
    "![Corey Shafer OOP del 5, at 07:01](pics/Screenshot_2025-10-01112631.png)"
   ]
  },
  {
   "cell_type": "code",
   "execution_count": 3,
   "id": "38202de5",
   "metadata": {},
   "outputs": [
    {
     "name": "stdout",
     "output_type": "stream",
     "text": [
      "3\n",
      "ab\n"
     ]
    }
   ],
   "source": [
    "print(int.__add__(1, 2))\n",
    "print(str.__add__('a', 'b'))"
   ]
  }
 ],
 "metadata": {
  "kernelspec": {
   "display_name": ".venv",
   "language": "python",
   "name": "python3"
  },
  "language_info": {
   "codemirror_mode": {
    "name": "ipython",
    "version": 3
   },
   "file_extension": ".py",
   "mimetype": "text/x-python",
   "name": "python",
   "nbconvert_exporter": "python",
   "pygments_lexer": "ipython3",
   "version": "3.13.5"
  }
 },
 "nbformat": 4,
 "nbformat_minor": 5
}
