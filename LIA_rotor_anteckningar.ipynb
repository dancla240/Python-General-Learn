{
 "cells": [
  {
   "cell_type": "markdown",
   "metadata": {},
   "source": [
    "## LIA rotor anteckningar\n",
    "- [Elmotorer](#elmotorer)\n",
    "- [Inverter](#inverter)"
   ]
  },
  {
   "cell_type": "markdown",
   "metadata": {},
   "source": [
    "### Elmotorer\n",
    "- PMSM: Permanent Magnet Synchronous Motor:\n",
    "- Asynchronous Motor?\n",
    "- Stator:\n",
    "    - Stator Yoke:\n",
    "    - Stator Winding:\n",
    "- Rotor:\n"
   ]
  },
  {
   "cell_type": "markdown",
   "metadata": {},
   "source": [
    "### Inverter"
   ]
  }
 ],
 "metadata": {
  "language_info": {
   "name": "python"
  }
 },
 "nbformat": 4,
 "nbformat_minor": 2
}
