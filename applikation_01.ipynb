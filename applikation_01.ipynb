{
 "cells": [
  {
   "cell_type": "markdown",
   "id": "ac709f48",
   "metadata": {},
   "source": [
    "### Anteckningar / Erfarneheter från implementation"
   ]
  },
  {
   "cell_type": "markdown",
   "id": "2f235cdd",
   "metadata": {},
   "source": [
    "### Important stuff:\n",
    "#### ```if name == \"__main__\":```\n",
    "- To run your script only when executed directly (not imported), use:  \n",
    "```\n",
    "if __name__ == \"__main__\":\n",
    "    run() # eller main(), eller vilken annan funktion som man vill ska köras.\n",
    "```\n",
    "- Att använda denna innebär att man kommer köra koden (i run-funktionen) om man trycker på play alternativt om man startar filen genom terminalen. Men man kommer inte automatiskt köra koden om man importerar filen från en annan fil eller dylikt.\n",
    "- Dvs, Koden som står inne i run()-funktionen kommer inte att köras vid import!"
   ]
  },
  {
   "cell_type": "markdown",
   "id": "ad36e823",
   "metadata": {},
   "source": [
    "### Type hinting\n",
    "#### i funktions definition:\n",
    "Type hinting innebär att man i koden anger vilken datatyp som förväntas som output från en funktion:<br>\n",
    "```\n",
    "def calc_cost(data) -> int:\n",
    "    cost = ....\n",
    "```\n",
    "#### i dataclass definition:\n",
    "Inside a dataclass, typehint is also used:<br>\n",
    "<br>\n",
    "```\n",
    "@dataclass\n",
    "class Exercise:\n",
    "    name: str\n",
    "    reps: int\n",
    "    sets: int\n",
    "    weight: any\n",
    "```\n",
    "- any => accepterar alla datatyper\n",
    "- Improves readability\n",
    "- Does not enforce return type at runtime, vilket även gäller för dataclasses\n",
    "- Det finns \"typechecker\" som Mypy"
   ]
  },
  {
   "cell_type": "markdown",
   "id": "5a6e8bef",
   "metadata": {},
   "source": [
    "### Linting\n",
    "- Linting i betyder att automatiskt analysera koden för att hitta potentiella fel, avvikelser från kodstandarder eller dålig kodstil – utan att faktiskt köra programmet.\n",
    "- 👉 Namnet kommer från ett gammalt Unix-verktyg som hette lint, som ursprungligen användes för att hitta problem i C-kod.\n",
    "- I Python används lintingverktyg för att:\n",
    "    - Kontrollera syntaxfel eller misstänkta konstruktioner.\n",
    "    - Säkerställa att koden följer kodstilregler, t.ex. PEP 8 (Python’s officiella style guide).\n",
    "    - Hitta oanvända variabler, importer eller onödiga delar i koden.\n",
    "    - Peka ut buggar som kan ge problem vid körning (t.ex. felaktig jämförelse eller fel typanvändning).\n",
    "Vanliga lintingverktyg i Python:\n",
    "- Pylint – kraftfullt och konfigurerbart, ger både fel, varningar och stilkommentarer.\n",
    "- Flake8 – populärt och lite mer minimalistiskt, fokuserar på PEP8 och enkla fel.\n",
    "- Black – inte en klassisk linter, utan en formatterare som automatiskt formaterar kod enligt en strikt stil.\n",
    "- mypy – för typkontroll (analyserar type hints)."
   ]
  },
  {
   "cell_type": "markdown",
   "id": "17786a95",
   "metadata": {},
   "source": [
    "### init.py and packages:\n",
    "- What is ```__init__.py```?\n",
    "- It marks a folder as a Python package.\n",
    "- Without it (in older Python), you couldn’t import from that folder.\n",
    "- Today (Python 3.3+), implicit namespace packages exist, but having __init__.py is still good practice because:\n",
    "- You can control what’s imported when someone does ```from mypackage import *```.\n",
    "- You can define package-level variables, logging setup, or helper functions.\n",
    "- You can provide a package API surface — the “public entrypoint” for that folder."
   ]
  },
  {
   "cell_type": "markdown",
   "id": "8b7af73b",
   "metadata": {},
   "source": [
    "## Flask\n",
    "- [Geek for Gekks, Flask Tutorial](https://www.geeksforgeeks.org/python/flask-tutorial/)\n",
    "- [Geek for Geeks, creating Rest API's with Flask](https://www.geeksforgeeks.org/python/flask-creating-rest-apis/)"
   ]
  },
  {
   "cell_type": "markdown",
   "id": "4cbd299c",
   "metadata": {},
   "source": [
    "### Lessons Learned från att jobbat med Flask API för household förbrukning\n",
    "#### Flask\n",
    "- En Flask app är en web server som väntar på HTTP requests. När en request kommer in, så matchar Flask den till en \"route handler\", som i sin tur kickar igång pipelinen.\n",
    "- Ett API kan ta emot olika typer av requests. De flesta requests följer CRUD, dvs Create, Read, Update, Delete. Till API'et skickas ett API-request. ['GET'] motsvarar ungeför Read. ['POST'] innebär att skicka in data till API'et, som sedan ska användas för att tex beräkna något. ['PUT'] = Update, ['DELETE'] = Delete. Dessa är HTTP-metoder!\n",
    "- Använder Flask som är ett lightweight webframework (micro-framework). Flask är byggt ovanpå två kraftfulla libraries: Werkzeug som är en WSGI server och Jinja som gör att man kan anväda dynamisk HTML.\n",
    "- Flask använder sk **routes**, vilka mappar URL's till Python funktioner.\n",
    "- Flask har stöd för RESTful API's och är populärt för att bygga API'er.\n",
    "- Flask har en inbyggd utvecklingsserver, vilket gör det enkelt att utveckla och testa API'er lokalt.\n",
    "- Man börjar med att skapa ett Flask **app-objekt**, vilket är den centrala Flask application instansen. Därefter vill man till slut köra run på detta objektet. Det är det som startar servern, som sedan ligger och väntar på att få API-requests till sig. Vid ett API-request så startar respektive \"route\".\n",
    "- En bra regel enligt MG är att API'et alltid ska svara med ett svar, även om det inte är ett 200 svar\n",
    "#### Why app.parser och app.predictor?<br>\n",
    "ChatGPT föreslog att addera både parser-klassen och prediktor klassen som till app-objektet. Det verkar vara ett \"common trick to stash dependencies in the app-object.\" Flask objektet som heter \"app\" är ett normalt Python objekt, till vilket man kan addera \"arbitrary attributes\".\n",
    "```\n",
    "app = Flask(__name__) #skapar ett app-objekt i Flask (eller en instans av API'et)<br>\n",
    "#Nedan kod \"attaches arbitrary attributes to the Flask object\"\n",
    "app.parser = Parser()\n",
    "app.predictor = PredictionService()\n",
    "register_routes(app) # innan man kör app.run så ska man definera routes'arna\n",
    "\n",
    "app.run() # startar web servern\n",
    "```\n",
    "Routes: sk routes beskriver mappningen mellan URL's och den kod som ska köras:\n",
    "```\n",
    "@app.route(\"/health\")\n",
    "def return_health()\n",
    "    return \"status ok\"\n",
    "```\n",
    "- För att prova sitt API lokalt kan man använda Postman eller som jag gjorde Thunder Client. Men den kan man skicka in olika API requests och se om man får tillbaka det förväntade svaret.\n",
    "- Som ett av de första stegen i \"routingen\" är att accessa inkommande request data vid 'POST' kommnando, kan man använda **request**-objektet  \n",
    "```\n",
    "data = request.get_json() # omvandlar datan som bifogas till en json\n",
    "req = RequestObject(**data) # omvandlar json datan till ett RequestObject (i vårt fall en DataClass)\n",
    "```\n",
    "\n"
   ]
  },
  {
   "cell_type": "markdown",
   "id": "5e07765b",
   "metadata": {},
   "source": [
    "### Dataclasses:\n",
    "[Datacamp dataclass intro](https://www.datacamp.com/tutorial/python-data-classes?utm_cid=19589720821&utm_aid=157156375191&utm_campaign=230119_1-ps-other~dsa~tofu_2-b2c_3-emea_4-prc_5-na_6-na_7-le_8-pdsh-go_9-nb-e_10-na_11-na&utm_loc=9062342-&utm_mtd=-c&utm_kw=&utm_source=google&utm_medium=paid_search&utm_content=ps-other~emea-en~dsa~tofu~tutorial-python&gad_source=1&gad_campaignid=19589720821&gbraid=0AAAAADQ9WsEJN3V3FWNdQh9kQPiS_1OJ-&gclid=CjwKCAjw_fnFBhB0EiwAH_MfZpqxCq9uMTqK6aOQPTMyXgUgYsql7S5dQs5dTr0sxdvtGBWY6rzLCRoCmesQAvD_BwE)\n",
    "- En ny sak för mig är det som kallas dataclasses.\n",
    "- Dataclasses är i grunden vanliga klasser, men som kräver mycket mindre kod för att implementera samma funktionalitet.\n",
    "- repr och eq metoderna redan implementerade\n",
    "- repr = objekt representation, som innehåller allt för att återskapa objektet\n",
    "- eq = equality operator, kan jämföra två objekt med varandra\n",
    "- Det är ett sätt att \"wrappa datan i en json fil\". Fördelar:\n",
    "- I dataclasses så anger man förväntade **datatyper** som type hints (but, dataclasses don't enforce types at runtime!). Dvs, man kan köra in andra datatyper än det som man definierat (tyvärr?). \n",
    "- man kan addera defaultvärden\n",
    "- Dataclass'en innehåller precis allt det som API-anropet ska innehålla, dvs en specifikation hur API-anropet ska se ut\n",
    "- Pydantic kan automat-generera dokumentation (dvs, användande av dataclasser ger möjlighet till integration med andra libraries)\n",
    "- ```def post_init(self)```-metoden: om det finns en sådan metod definierad, så kommer den köras efter init (därav namnet post_init). Tex kan man köra tester på datan i dataclassen.\n",
    "```\n",
    "@dataclass\n",
    "class Person:\n",
    "    name: str\n",
    "    phone: int\n",
    "\n",
    "def __post_init__(self):\n",
    "    if not....\n",
    "    raise error...\n",
    "```"
   ]
  },
  {
   "cell_type": "markdown",
   "id": "7a4c0be5",
   "metadata": {},
   "source": [
    "### Felhantering (syntax errors and exceptions):\n",
    "#### två typer av \"errors\":\n",
    "    - \"syntax errors\": innebär att koden är fel i sin syntax (kallas också \"parsing errors\")\n",
    "    - \"exceptions\": koden är syntaktiskt korrekt, men den orsakar ändå ett fel. Fel som hittas under execution kallas \"exceptions\". Tex: ZeroDivisionError, NameError, TypeError, ValueError\n",
    "    - Det finns \"built-in exceptions\" och man kan skapa \"user defined exceptions\".\n",
    "#### try - except\n",
    "- Felhantering är hur programmet ska bete sig när något går fel i runtime\n",
    "- Målet är att undvika att programmet krashar, och hantera felen snyggt.\n",
    "- ```try / except osv```\n",
    "#### raise\n",
    "Nedan: utan felhantering krachar programmet, med felhantering returneras ett 400 Bad Request med ett tydligt meddelande.\n",
    "```\n",
    "def to_series(data):\n",
    "    try:\n",
    "        s = pd.Series(data[\"historical_data\"])\n",
    "    except KeyError:\n",
    "        raise ValueError(\"Missing 'historical_data' in input\")\n",
    "    return s\n",
    "```\n",
    "Man skriver sin felhantering först, sedan skriver man sina tester. Detta eftersom testerna ska testa att felhanteringen fungerar."
   ]
  },
  {
   "cell_type": "markdown",
   "id": "51c38c9c",
   "metadata": {},
   "source": [
    "### Koder\n",
    "- 200: ok\n",
    "- 400: bad request\n",
    "- 404: not found\n",
    "- 500: internal server error"
   ]
  },
  {
   "cell_type": "markdown",
   "id": "55a62eb4",
   "metadata": {},
   "source": [
    "### Testning (Pytest tex):\n",
    "- Tester gör man för att testa koden innan deployment, för att se att den fungerar som den ska.\n",
    "- Man skriver tester som \"ska fungera\".\n",
    "- Man skriver också tester som testar att felhanteringen fungerar, tex skickar in tom information eller liknande.\n",
    "- Om man hittar en bugg, så skriver man först ett test som hittar buggen. Sedan också ett test som verifierar att buggen inte finns.\n",
    "- Målet är att **hitta buggar** och **bevisa att programmet gör rätt saker**.\n",
    "- Tex Pytest, unittest etc\n",
    "- Test Coverage, ungefär hur mycket av koden som testas\n",
    "- När man använder pytest, så räcker det att skriva \"pytest\" i terminalen, så börjar den testa. Den letar igenom filerna och hittar de som uppfyller kriterierna för att vara ett test, och sedan utförs testen. Man behöver inte ens ange vart testerna ligger. Därför blir också testningen i GitHub Actions ganska enkla att skriva."
   ]
  },
  {
   "cell_type": "markdown",
   "id": "a0cdeaa0",
   "metadata": {},
   "source": [
    "#### \"Patcha\" test (alternativt \"mocka\" test)\n",
    "- En av testfunktionerna för API't är konstruerat för att testa ett valitt API-anrop. Men den kör in en payload som egentligen inte skulle fungera om hela beräkningen skulle utföras, eftersom historisk data är endast 1 lång. Men testfunktionen definierar egen parser (som alltid returnerar en fixed Pandas Series) och predictor (som alltid returnerar en fixed prediction dictionary) klasser (\"dummy klasser\"). Payloaden som skickas till /predict behöver bara passera den initiala valideringen. Eftersom den verkliga beräkningen inte utförs så kommer den inte klaga på att historiska datan är för kort.\n",
    "- Endpointerna använder dummy klasserna så den failar aldrig för \"too short\" or \"incomplete\" data.\n",
    "- Den här metoden kallas \"patching\" eller \"mocking\", vilket:\n",
    "    - testar endpoint logiken utan att bero på den riktiga parsern eller prediktorn (dvs testar inte parsern eller predictorn)\n",
    "    - isolerar testet från externa beroenden och komplex logik\n",
    "    - fokuserar på om endpointen svarar korrekt på valid input, men inte på detaljerna i prediktionen eller parsingen"
   ]
  },
  {
   "cell_type": "markdown",
   "id": "32728ac1",
   "metadata": {},
   "source": [
    "#### Monkeypatching\n",
    "- i testningen av prediction_service så ville copilot använda monkeypatch, för att fejka laddning av joblib- "
   ]
  },
  {
   "cell_type": "markdown",
   "id": "a4eda923",
   "metadata": {},
   "source": [
    "### pyproject.toml-filen:\n",
    "- \"One file to rule them all\": i denna filen kan man spara config's för olika program och paket, tex pytest, black, osv.\n",
    "- En pyproject.toml fil beskriver location för testerna som ska köras med pytest:<br>\n",
    "```\n",
    "[tool.pytest.ini_options]\n",
    "testpaths = [\n",
    "    \"application/tests\"\n",
    "]\n",
    "```\n",
    "### GitHub Actions\n",
    "- GitHub Actions är en CI / CD del av GitHub. Den utför automatiska tester. \n",
    "En .yml-filen beskriver när och vilka tester som ska utföras, ligger i repot under .github/workflows:<br>\n",
    "Sista raden innebär att pytest ska köras. Den kör sedan precis som den skulle gjort lokalt.<br>\n",
    "```\n",
    "# This workflow will install Python dependencies, run tests and lint with a single version of Python\n",
    "# For more information see: https://docs.github.com/en/actions/automating-builds-and-tests/building-and-testing-python\n",
    "\n",
    "name: Python application\n",
    "\n",
    "on:\n",
    "  push:\n",
    "    branches: [ \"main\" ]\n",
    "  pull_request:\n",
    "    branches: [ \"main\" ]\n",
    "\n",
    "permissions:\n",
    "  contents: read\n",
    "\n",
    "jobs:\n",
    "  build:\n",
    "\n",
    "    runs-on: ubuntu-latest\n",
    "\n",
    "    steps:\n",
    "    - uses: actions/checkout@v4\n",
    "    - name: Set up Python 3.13\n",
    "      uses: actions/setup-python@v3\n",
    "      with:\n",
    "        python-version: \"3.13\"\n",
    "    - name: Install dependencies\n",
    "      run: |\n",
    "        python -m pip install --upgrade pip\n",
    "        pip install flake8 pytest\n",
    "        if [ -f requirements.txt ]; then pip install -r requirements.txt; fi\n",
    "    - name: Lint with flake8\n",
    "      run: |\n",
    "        # stop the build if there are Python syntax errors or undefined names\n",
    "        flake8 . --count --select=E9,F63,F7,F82 --show-source --statistics\n",
    "        # exit-zero treats all errors as warnings. The GitHub editor is 127 chars wide\n",
    "        flake8 . --count --exit-zero --max-complexity=10 --max-line-length=127 --statistics\n",
    "    - name: Test with pytest\n",
    "      run: |\n",
    "        pytest\n",
    "```\n",
    "\n",
    "- VSCode extension finns\n"
   ]
  },
  {
   "cell_type": "markdown",
   "id": "fa34939b",
   "metadata": {},
   "source": [
    "### Logging"
   ]
  },
  {
   "cell_type": "markdown",
   "id": "85341d11",
   "metadata": {},
   "source": [
    "### Typing"
   ]
  },
  {
   "cell_type": "markdown",
   "id": "eef4a4d0",
   "metadata": {},
   "source": [
    "### Argparser"
   ]
  },
  {
   "cell_type": "markdown",
   "id": "2d040dc1",
   "metadata": {},
   "source": [
    "### Enum"
   ]
  },
  {
   "cell_type": "markdown",
   "id": "61a4c2fc",
   "metadata": {},
   "source": [
    "### Execution order\n",
    "Frågade ChatGPT vad som händer när jag kör min main.py. Jag är specifikt intresserad av att förstå vilka funktioner som körs, och varför tex vi lade viss kod direkt i __init__.py-filen i varje folder."
   ]
  },
  {
   "cell_type": "markdown",
   "id": "60fd024e",
   "metadata": {},
   "source": [
    "When main.py is executed, Python processes all the import statements at the top of the file before running any other code. Here’s what happens for each import:\n",
    "\n",
    "1. ```from api import create_app```<br>\n",
    "Python looks for a module named api in the current directory or in the Python path.\n",
    "In your project, api is likely a folder or file inside application (since you have sys.path.append(os.path.abspath('..')), the parent directory is added to the path).\n",
    "Python executes the top-level code in api/__init__.py (if it exists) and then in api.py or api/__init__.py (depending on your structure).\n",
    "Any code at the top level of these files (outside of functions/classes) will be executed immediately.\n",
    "The create_app function is made available in main.py.\n",
    "2. ```from application.my_parser.series_parser import Parser```<br>\n",
    "```__init__.py``` i foldern exekeveras först, därefter executes the series_parser.py file inside my_parser.\n",
    "Any **top-level code** in series_parser.py is executed.\n",
    "The Parser class is made available in main.py.\n",
    "3. ```from application.my_predictor.prediction_service import PredictionService```\n",
    "```__init__.py``` i foldern exekeveras först,Python finds and executes the prediction_service.py file inside my_predictor.\n",
    "Any top-level code in prediction_service.py is executed.\n",
    "The PredictionService class is made available in main.py.<br>\n",
    "  \n",
    "#### Summary:<br>\n",
    "For each import, Python runs all code at the top level of the imported module (not inside functions/classes). This can include variable assignments, function/class definitions, and any statements not inside a function or class. Only after all imports are processed does Python continue with the rest of main.py.  <br>\n",
    "<br>\n",
    "OBS, viktigt: För varje import så kör Python all kod i modulen på top level (tex klasser och funktioner identifieras och görs tillgängliga, men körs ej)<br>\n",
    "<br>\n",
    "Därefter cachas modulen i sys.modules, och den kommer inte köras igen om den importeras igen.<br>\n",
    "<br>\n",
    "##### Mer om ```__init__.py```:\n",
    "När man importerar en modul så exekveras __init__.py filen alltid. You can use __init__.py to:  \n",
    "- Expose selected functions/classes (from .parser import Parser)\n",
    "- Set up package-level variables\n",
    "- Or leave it empty (just to mark the folder as a package).\n",
    "#### Tip:<br>\n",
    "If you want to see exactly what runs, look for code in those files that is not indented (i.e., not inside a function or class). That code will execute on import.<br>\n",
    "OBS!! Code inside ```if __name__ == \"__main__\":``` blocks will NOT run on import—only when that file is executed directly.\n",
    "\n",
    "🔹 TL;DR\n",
    "\n",
    "- Execution starts in the file you run directly.\n",
    "- Imports execute the imported file once, then cache it.\n",
    "- ```__init__.py``` runs whenever its package is first imported.\n",
    "- You normally organize code into packages of related modules, import what you need, and keep a single main.py or app.py as entry point. (det är detta som magnus också säger till mig!)\n",
    "- Man delar upp koden i paket för att undvika att det blir messy, enklare testa varje paket för sig utan att behöva starta Flask, kunna göra ändringar eller byta ut tex \"prediktor\" utan att behöva ändra någon annan stanns. Och det håller koden organiserad allteftersom projektet växer.\n",
    "- När man gör egna moduler för Parser och Prediktor, som aldrig importerar Flask, så gör man den **\"framework agnostic\"**, dvs verkar som att man kan byta ut Flask mot ett annat framework, utan att ändra i Parser och Prediktor."
   ]
  },
  {
   "cell_type": "markdown",
   "id": "3f16b796",
   "metadata": {},
   "source": [
    "### Why put the \"create app\" function inside the ```__init__.py``` file?\n",
    "Placing the Flask app creation code in the __init__.py file of the api folder has several benefits:<br>\n",
    "\n",
    "#### Package Initialization:<br>\n",
    "The __init__.py file is automatically executed when the package (api) is imported. This makes it a natural place to set up and configure the Flask app, ensuring it is ready whenever the package is used.\n",
    "<br>\n",
    "#### Single Entry Point:<br>\n",
    "By centralizing app creation in __init__.py, you provide a single, consistent entry point for creating the Flask app. This makes it easier to import and use the app in different contexts (development, testing, production).\n",
    "<br>\n",
    "#### Cleaner Imports:<br>\n",
    "Other modules can simply do ```from api import create_app``` (or ```from api import app```), without needing to know the internal structure of the package.\n",
    "<br>\n",
    "#### Encapsulation:<br>\n",
    "All setup, configuration, and route registration for the API are encapsulated within the package, keeping the application modular and organized.\n",
    "<br>\n",
    "#### Testing and Reusability:<br>\n",
    "Having the app creation logic in __init__.py makes it easier to create multiple app instances for testing or different configurations, as you can expose a create_app() factory function.\n",
    "<br>\n",
    "#### Summary:<br>\n",
    "Allocating Flask app creation in __init__.py improves modularity, encapsulation, and usability of your API package, making your project easier to maintain and extend."
   ]
  },
  {
   "cell_type": "markdown",
   "id": "4e800c30",
   "metadata": {},
   "source": [
    "### Execptions, some coding examples"
   ]
  },
  {
   "cell_type": "code",
   "execution_count": 18,
   "id": "abb01a42",
   "metadata": {},
   "outputs": [
    {
     "name": "stdout",
     "output_type": "stream",
     "text": [
      "This is a ZeroDivisionError\n"
     ]
    }
   ],
   "source": [
    "try:\n",
    "    a = 3 + (3/0)\n",
    "    print(f\"a={a})\")\n",
    "except ZeroDivisionError:\n",
    "    print('This is a ZeroDivisionError')"
   ]
  },
  {
   "cell_type": "markdown",
   "id": "72fee83e",
   "metadata": {},
   "source": [
    "#### \"unhandled exception\"\n",
    "- means that the execution of a program stops with an error message"
   ]
  },
  {
   "cell_type": "code",
   "execution_count": null,
   "id": "8349896e",
   "metadata": {},
   "outputs": [
    {
     "ename": "ZeroDivisionError",
     "evalue": "division by zero",
     "output_type": "error",
     "traceback": [
      "\u001b[31m---------------------------------------------------------------------------\u001b[39m",
      "\u001b[31mZeroDivisionError\u001b[39m                         Traceback (most recent call last)",
      "\u001b[36mCell\u001b[39m\u001b[36m \u001b[39m\u001b[32mIn[19]\u001b[39m\u001b[32m, line 2\u001b[39m\n\u001b[32m      1\u001b[39m \u001b[38;5;28;01mtry\u001b[39;00m:\n\u001b[32m----> \u001b[39m\u001b[32m2\u001b[39m     a = \u001b[32m3\u001b[39m + (\u001b[32;43m3\u001b[39;49m\u001b[43m/\u001b[49m\u001b[32;43m0\u001b[39;49m)\n\u001b[32m      3\u001b[39m     \u001b[38;5;28mprint\u001b[39m(\u001b[33mf\u001b[39m\u001b[33m\"\u001b[39m\u001b[33ma=\u001b[39m\u001b[38;5;132;01m{\u001b[39;00ma\u001b[38;5;132;01m}\u001b[39;00m\u001b[33m)\u001b[39m\u001b[33m\"\u001b[39m)\n\u001b[32m      4\u001b[39m \u001b[38;5;28;01mexcept\u001b[39;00m \u001b[38;5;167;01mValueError\u001b[39;00m:\n",
      "\u001b[31mZeroDivisionError\u001b[39m: division by zero"
     ]
    }
   ],
   "source": [
    "# nedan kod är felaktig, då det inte är en ValueError som kastas\n",
    "# utan en ZeroDivisionError\n",
    "# kallas \"unhandled exception\"\n",
    "try:\n",
    "    a = 3 + (3/0)\n",
    "    print(f\"a={a})\")\n",
    "except ValueError:\n",
    "    print('This is a ValueError')"
   ]
  },
  {
   "cell_type": "markdown",
   "id": "5500fc00",
   "metadata": {},
   "source": [
    "Ett try-statement kan ha multipla excpet-clauses för att hantera olika typer av exceptions. Bara en \"handler\" kommer exekveras."
   ]
  },
  {
   "cell_type": "code",
   "execution_count": 22,
   "id": "e978d041",
   "metadata": {},
   "outputs": [
    {
     "name": "stdout",
     "output_type": "stream",
     "text": [
      "This is a ZeroDivisionError\n"
     ]
    }
   ],
   "source": [
    "try:\n",
    "    a = 3 + (3/0)\n",
    "    print(f\"a={a})\")\n",
    "except ValueError:\n",
    "    print('This is a ValueError')\n",
    "except ZeroDivisionError:\n",
    "    print('This is a ZeroDivisionError')\n"
   ]
  },
  {
   "cell_type": "markdown",
   "id": "f3261f2a",
   "metadata": {},
   "source": [
    "Man kan addera detta:"
   ]
  },
  {
   "cell_type": "code",
   "execution_count": 23,
   "id": "6317a9dd",
   "metadata": {},
   "outputs": [
    {
     "name": "stdout",
     "output_type": "stream",
     "text": [
      "Error: division by zero\n"
     ]
    }
   ],
   "source": [
    "try:\n",
    "    a = 3 + (3/0)\n",
    "    print(f\"a={a})\")\n",
    "except ValueError:\n",
    "    print('This is a ValueError')\n",
    "except ZeroDivisionError as err:\n",
    "    print('Error:', err)"
   ]
  },
  {
   "cell_type": "markdown",
   "id": "6230acb4",
   "metadata": {},
   "source": [
    "Man kan ha flera typer av exceptions i en tuple:"
   ]
  },
  {
   "cell_type": "code",
   "execution_count": 20,
   "id": "1b7b2516",
   "metadata": {},
   "outputs": [
    {
     "name": "stdout",
     "output_type": "stream",
     "text": [
      "This is a ZeroDivisionError, ValueError or TypeError\n"
     ]
    }
   ],
   "source": [
    "try:\n",
    "    a = 3 + (3/0)\n",
    "    print(f\"a={a})\")\n",
    "except ValueError:\n",
    "    print('This is a ValueError')\n",
    "except (ZeroDivisionError, ValueError, TypeError):\n",
    "    print('This is a ZeroDivisionError, ValueError or TypeError')"
   ]
  },
  {
   "cell_type": "markdown",
   "id": "a767dc63",
   "metadata": {},
   "source": [
    "Exception handlers do not handle only exceptions that occur immediately in the try clause, but also those that occur inside functions that are called (even indirectly) in the try clause. For example:"
   ]
  },
  {
   "cell_type": "code",
   "execution_count": 24,
   "id": "65bbd1a6",
   "metadata": {},
   "outputs": [
    {
     "name": "stdout",
     "output_type": "stream",
     "text": [
      "Handling run-time error: division by zero\n"
     ]
    }
   ],
   "source": [
    "def this_fails():\n",
    "    x = 1/0\n",
    "\n",
    "try:\n",
    "    this_fails()\n",
    "except ZeroDivisionError as err:\n",
    "    print('Handling run-time error:', err)"
   ]
  },
  {
   "cell_type": "markdown",
   "id": "a02cc32c",
   "metadata": {},
   "source": [
    "#### Raising exceptions:\n",
    "- The raise statement allows the programmer to force a specified exception to occur. "
   ]
  },
  {
   "cell_type": "code",
   "execution_count": 28,
   "id": "0217c908",
   "metadata": {},
   "outputs": [
    {
     "name": "stdout",
     "output_type": "stream",
     "text": [
      "'<' not supported between instances of 'str' and 'int'\n"
     ]
    }
   ],
   "source": [
    "def set(age):\n",
    "    if age < 0:\n",
    "        raise ValueError(\"Age cannot be negative.\")\n",
    "    print(f\"Age set to {age}\")\n",
    "\n",
    "try:\n",
    "    set(\"str\")\n",
    "except ValueError as e:\n",
    "    print(e)\n",
    "except TypeError as e:\n",
    "    print(e)"
   ]
  },
  {
   "cell_type": "markdown",
   "id": "f441155c",
   "metadata": {},
   "source": [
    "### Custom exceptions\n",
    "- You can also create custom exceptions by defining a new class that inherits from Python’s built-in Exception class. This is useful for application-specific errors. Let's see an example to understand how."
   ]
  },
  {
   "cell_type": "code",
   "execution_count": 29,
   "id": "8fef0ab6",
   "metadata": {},
   "outputs": [
    {
     "name": "stdout",
     "output_type": "stream",
     "text": [
      "Age cannot be negative.\n"
     ]
    }
   ],
   "source": [
    "class AgeError(Exception):\n",
    "    pass\n",
    "\n",
    "def set(age):\n",
    "    if age < 0:\n",
    "        raise AgeError(\"Age cannot be negative.\")\n",
    "    print(f\"Age set to {age}\")\n",
    "\n",
    "try:\n",
    "    set(-5)\n",
    "except AgeError as e:\n",
    "    print(e)"
   ]
  },
  {
   "cell_type": "markdown",
   "id": "a3926b43",
   "metadata": {},
   "source": [
    "### API endpoints\n",
    "- En **API endpoint** är en URL (path + metod) i API'et där en **client** kan skicka requests och få ett response.\n",
    "- Ett API har egenskaper såsom:\n",
    "    - Path (URL)\n",
    "    - HTTP metod (GET, POST, PUT, DELETE)\n",
    "    - Input: query parameters\n",
    "    - Output: vanligen en JSON, men kan vara anything (bild, HTML, csv osv)"
   ]
  },
  {
   "cell_type": "markdown",
   "id": "914f3816",
   "metadata": {},
   "source": [
    "### Dockerization"
   ]
  },
  {
   "cell_type": "markdown",
   "id": "58dfcde4",
   "metadata": {},
   "source": [
    "#### Docker, common commands\n",
    "- skriv i command prompt:\n",
    "- \"docker\" => ger help för alla kommandon med mera\n",
    "\n",
    "Common Commands:<br>\n",
    "  run => Create and run a new container from an image<br>\n",
    "  exec => Execute a command in a running container<br>\n",
    "  ps => List containers<br>\n",
    "  build => Build an image from a Dockerfile<br>\n",
    "  bake => Build from a file<br>\n",
    "  pull => Download an image from a registry<br>\n",
    "  push => Upload an image to a registry<br>\n",
    "  images => List images<br>\n",
    "  login => Authenticate to a registry<br>\n",
    "  logout => Log out from a registry<br>\n",
    "  search => Search Docker Hub for images<br>\n",
    "  version => Show the Docker version information<br>\n",
    "  info => Display system-wide information<br>"
   ]
  },
  {
   "cell_type": "markdown",
   "id": "dc8f0cd5",
   "metadata": {},
   "source": [
    "### WSGI / ASGI\n",
    "- \n",
    "- Uvicorn\n",
    "- Gunicorn"
   ]
  }
 ],
 "metadata": {
  "kernelspec": {
   "display_name": ".venv",
   "language": "python",
   "name": "python3"
  },
  "language_info": {
   "codemirror_mode": {
    "name": "ipython",
    "version": 3
   },
   "file_extension": ".py",
   "mimetype": "text/x-python",
   "name": "python",
   "nbconvert_exporter": "python",
   "pygments_lexer": "ipython3",
   "version": "3.13.5"
  }
 },
 "nbformat": 4,
 "nbformat_minor": 5
}
