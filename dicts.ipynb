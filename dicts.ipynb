{
 "cells": [
  {
   "cell_type": "markdown",
   "metadata": {},
   "source": [
    "## Dictionaries\n",
    "- [Dictionaries Geeks fo Geeks](https://www.geeksforgeeks.org/python-dictionary/)\n",
    "- key : value pairs\n",
    "- Dictionaries är **mutable**, dvs man kan addera, ta bort, eller ändra key:value pairs.\n",
    "- **values** kan vara alla datatyper och kan vara duplicates\n",
    "- sedan Python 3.7 är dicts **ordered**\n",
    "- **keys** måsta vara unika och måste vara **immutable** (eftersom dicts använder \"hashing\" internt). Därför kan keys endast vara av datatyperna **strings**, **numbers** eller **tuples**.\n",
    "- **Hashing** används i databaser för indexering, samt mappar keys till values. [Hashing Geek for Geeks](https://www.geeksforgeeks.org/introduction-to-hashing-2/)  \n",
    "- dict-methods är: clear(), copy(), fromkeys(), get(), items(), keys(), pop(), popitem(), setdefault(), values(), update(). [Länk Geek for Geeks dict methods](https://www.geeksforgeeks.org/python-dictionary-methods/)\n",
    "- [länk geek for geeks dict comprehension](https://www.geeksforgeeks.org/python-dictionary-comprehension/)"
   ]
  },
  {
   "cell_type": "markdown",
   "metadata": {},
   "source": [
    "#### Skapa en dictionary:"
   ]
  },
  {
   "cell_type": "code",
   "execution_count": 25,
   "metadata": {},
   "outputs": [],
   "source": [
    "my_dict = {'name': 'Jack', 'age': 26}\n",
    "my_dict2 = {'name': 'Daniel', 'age': 47}\n",
    "my_dict3 = {'name': 'John', 'age': 33}"
   ]
  },
  {
   "cell_type": "markdown",
   "metadata": {},
   "source": [
    "#### dict()\n",
    "- man kan också använda dict-funtionen för att skapa en dict:\n",
    "- även dict comprehension, se längre ner"
   ]
  },
  {
   "cell_type": "markdown",
   "metadata": {},
   "source": [
    "Hämta ett ***value*** ur en dict, baserat på dess ***key***"
   ]
  },
  {
   "cell_type": "code",
   "execution_count": 26,
   "metadata": {},
   "outputs": [
    {
     "data": {
      "text/plain": [
       "'Jack'"
      ]
     },
     "execution_count": 26,
     "metadata": {},
     "output_type": "execute_result"
    }
   ],
   "source": [
    "my_dict['name']"
   ]
  },
  {
   "cell_type": "markdown",
   "metadata": {},
   "source": [
    "#### get\n",
    "- Alternativt använder man get-metoden:"
   ]
  },
  {
   "cell_type": "code",
   "execution_count": 27,
   "metadata": {},
   "outputs": [
    {
     "data": {
      "text/plain": [
       "'Jack'"
      ]
     },
     "execution_count": 27,
     "metadata": {},
     "output_type": "execute_result"
    }
   ],
   "source": [
    "my_dict.get('name')"
   ]
  },
  {
   "cell_type": "markdown",
   "metadata": {},
   "source": [
    "Addera ett key:value pair till en dict:"
   ]
  },
  {
   "cell_type": "code",
   "execution_count": 28,
   "metadata": {},
   "outputs": [
    {
     "data": {
      "text/plain": [
       "{'name': 'Jack', 'age': 26, 'profession': 'developer'}"
      ]
     },
     "execution_count": 28,
     "metadata": {},
     "output_type": "execute_result"
    }
   ],
   "source": [
    "my_dict['profession'] = 'developer'\n",
    "my_dict"
   ]
  },
  {
   "cell_type": "markdown",
   "metadata": {},
   "source": [
    "#### del\n",
    "Ta bort ett key:value pair:"
   ]
  },
  {
   "cell_type": "code",
   "execution_count": 29,
   "metadata": {},
   "outputs": [
    {
     "data": {
      "text/plain": [
       "{'name': 'Jack', 'age': 26}"
      ]
     },
     "execution_count": 29,
     "metadata": {},
     "output_type": "execute_result"
    }
   ],
   "source": [
    "del my_dict['profession']\n",
    "my_dict"
   ]
  },
  {
   "cell_type": "markdown",
   "metadata": {},
   "source": [
    "#### pop\n",
    "- används för att både ta bort och returnera value"
   ]
  },
  {
   "cell_type": "code",
   "execution_count": 30,
   "metadata": {},
   "outputs": [
    {
     "name": "stdout",
     "output_type": "stream",
     "text": [
      "26\n",
      "{'name': 'Jack'}\n"
     ]
    }
   ],
   "source": [
    "värde = my_dict.pop('age')\n",
    "print(värde)\n",
    "print(my_dict)"
   ]
  },
  {
   "cell_type": "markdown",
   "metadata": {},
   "source": [
    "Adderar mer data till my_dict"
   ]
  },
  {
   "cell_type": "code",
   "execution_count": 31,
   "metadata": {},
   "outputs": [
    {
     "name": "stdout",
     "output_type": "stream",
     "text": [
      "{'name': 'Jack', 'age': 26, 'profession': 'developer', 'city': 'Stockholm'}\n"
     ]
    }
   ],
   "source": [
    "my_dict['age'] = 26\n",
    "my_dict['profession'] = 'developer'\n",
    "my_dict['city'] = 'Stockholm'\n",
    "print(my_dict)"
   ]
  },
  {
   "cell_type": "markdown",
   "metadata": {},
   "source": [
    "#### popitem\n",
    "- tar bort och returnerar det sista key:value pair"
   ]
  },
  {
   "cell_type": "code",
   "execution_count": 32,
   "metadata": {},
   "outputs": [
    {
     "name": "stdout",
     "output_type": "stream",
     "text": [
      "key: city, value: Stockholm\n"
     ]
    }
   ],
   "source": [
    "key, val = my_dict.popitem()\n",
    "print(f\"key: {key}, value: {val}\")"
   ]
  },
  {
   "cell_type": "code",
   "execution_count": 33,
   "metadata": {},
   "outputs": [
    {
     "name": "stdout",
     "output_type": "stream",
     "text": [
      "key: profession, value: developer\n"
     ]
    }
   ],
   "source": [
    "key, val = my_dict.popitem()\n",
    "print(f\"key: {key}, value: {val}\")"
   ]
  },
  {
   "cell_type": "markdown",
   "metadata": {},
   "source": [
    "#### clear\n",
    "- man kan helt tömma en dict med clear"
   ]
  },
  {
   "cell_type": "code",
   "execution_count": 35,
   "metadata": {},
   "outputs": [
    {
     "data": {
      "text/plain": [
       "{}"
      ]
     },
     "execution_count": 35,
     "metadata": {},
     "output_type": "execute_result"
    }
   ],
   "source": [
    "my_dict.clear()\n",
    "my_dict"
   ]
  },
  {
   "cell_type": "markdown",
   "metadata": {},
   "source": [
    "#### Iterera igenom en dictionary\n",
    "- man kan iterera över en dictionary med nedan metoder:\n",
    "##### keys()\n",
    "- keys() metoden används för att iterera över keys\n",
    "##### values()\n",
    "- values() metoden används för att iterera över vlaues()\n",
    "##### items()\n",
    "- items() metoden används för att iterera över key-value pairs.\n"
   ]
  },
  {
   "cell_type": "code",
   "execution_count": 37,
   "metadata": {},
   "outputs": [
    {
     "name": "stdout",
     "output_type": "stream",
     "text": [
      "name\n",
      "age\n",
      "profession\n",
      "city\n",
      "parents\n"
     ]
    }
   ],
   "source": [
    "my_dict = {'name': 'Jack', 'age': 26, 'profession': 'developer', 'city': 'Stockholm', 'parents': ['John', 'Anna']}\n",
    "\n",
    "# iterera över keys:\n",
    "for key in my_dict:\n",
    "    print(key)"
   ]
  },
  {
   "cell_type": "code",
   "execution_count": 39,
   "metadata": {},
   "outputs": [
    {
     "name": "stdout",
     "output_type": "stream",
     "text": [
      "Jack\n",
      "26\n",
      "developer\n",
      "Stockholm\n",
      "['John', 'Anna']\n"
     ]
    }
   ],
   "source": [
    "# iterera över values:\n",
    "for value in my_dict.values():\n",
    "    print(value)\n"
   ]
  },
  {
   "cell_type": "code",
   "execution_count": 41,
   "metadata": {},
   "outputs": [
    {
     "name": "stdout",
     "output_type": "stream",
     "text": [
      "name: Jack\n",
      "age: 26\n",
      "profession: developer\n",
      "city: Stockholm\n",
      "parents: ['John', 'Anna']\n"
     ]
    }
   ],
   "source": [
    "# iterera över key:value pairs:\n",
    "for key, value in my_dict.items():\n",
    "    print(f\"{key}: {value}\")"
   ]
  },
  {
   "cell_type": "markdown",
   "metadata": {},
   "source": [
    "#### Nested dictionaries:"
   ]
  },
  {
   "cell_type": "code",
   "execution_count": 53,
   "metadata": {},
   "outputs": [
    {
     "data": {
      "text/plain": [
       "{'name': 'Jack',\n",
       " 'age': 26,\n",
       " 'profession': 'developer',\n",
       " 'city': 'Stockholm',\n",
       " 'parents': {'father': {'name': 'John', 'age': 55},\n",
       "  'mother': {'name': 'Anna', 'age': 50}},\n",
       " 'hobbies:': ['programming', 'hiking', 'skiing']}"
      ]
     },
     "execution_count": 53,
     "metadata": {},
     "output_type": "execute_result"
    }
   ],
   "source": [
    "daniel = {'name': 'Daniel',\n",
    "        'age': 26,\n",
    "        'profession': 'developer',\n",
    "        'city': 'Stockholm',\n",
    "        'parents': {'father': {'name': 'John', 'age': 55}, 'mother': {'name': 'Anna', 'age': 50}},\n",
    "        'contacts': {'phone': '123456789', 'email': 'dacl@rocketmail.com'},\n",
    "        'hobbies:': ['programming', 'hiking', 'skiing']}\n",
    "jack"
   ]
  },
  {
   "cell_type": "markdown",
   "metadata": {},
   "source": [
    "Fär att hämta information i en nested dictioanry så anger man key's efter varandra:"
   ]
  },
  {
   "cell_type": "code",
   "execution_count": 54,
   "metadata": {},
   "outputs": [
    {
     "data": {
      "text/plain": [
       "'John'"
      ]
     },
     "execution_count": 54,
     "metadata": {},
     "output_type": "execute_result"
    }
   ],
   "source": [
    "daniel['parents']['father']['name']"
   ]
  },
  {
   "cell_type": "markdown",
   "metadata": {},
   "source": [
    "#### Dict Comprehension"
   ]
  },
  {
   "cell_type": "code",
   "execution_count": 3,
   "metadata": {},
   "outputs": [
    {
     "name": "stdout",
     "output_type": "stream",
     "text": [
      "{'a': 1, 'b': 2, 'c': 3, 'd': 4, 'e': 5}\n"
     ]
    }
   ],
   "source": [
    "# Lists to represent keys and values\n",
    "keys = ['a','b','c','d','e']\n",
    "values = [1,2,3,4,5]  \n",
    "\n",
    "# but this line shows dict comprehension here  \n",
    "myDict = { k:v for (k,v) in zip(keys, values)}\n",
    "print(myDict)"
   ]
  },
  {
   "cell_type": "markdown",
   "metadata": {},
   "source": [
    "Loopa igenom dicts, ett exempel:"
   ]
  },
  {
   "cell_type": "code",
   "execution_count": 4,
   "metadata": {},
   "outputs": [
    {
     "name": "stdout",
     "output_type": "stream",
     "text": [
      "one\n",
      "two\n",
      "three\n",
      "four\n",
      "five\n",
      "six\n",
      "seven\n",
      "eight\n"
     ]
    }
   ],
   "source": [
    "my_dict = {'filename_1': [['one', 'two'], ['three', 'four']],\n",
    "           'filenmae_2': [['five', 'six'], ['seven', 'eight']]}\n",
    "\n",
    "my_dict['filename_1']\n",
    "\n",
    "for key in my_dict:\n",
    "     for values in my_dict[key]:\n",
    "        for value in values:\n",
    "           print(value)"
   ]
  }
 ],
 "metadata": {
  "kernelspec": {
   "display_name": ".venv",
   "language": "python",
   "name": "python3"
  },
  "language_info": {
   "codemirror_mode": {
    "name": "ipython",
    "version": 3
   },
   "file_extension": ".py",
   "mimetype": "text/x-python",
   "name": "python",
   "nbconvert_exporter": "python",
   "pygments_lexer": "ipython3",
   "version": "3.12.3"
  }
 },
 "nbformat": 4,
 "nbformat_minor": 2
}
