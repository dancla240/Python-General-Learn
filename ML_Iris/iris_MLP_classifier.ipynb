{
 "cells": [
  {
   "cell_type": "markdown",
   "metadata": {},
   "source": [
    "# Analys av Iris datasetet med Scikit-Learn\n",
    "## Multi Layered Perceptron Classifier (MLPClassifier)\n",
    "### Mål:\n",
    "- Repetera Machine Learning: Scikit-Learn, plottning med Seaborn, Pandas etc\n",
    "- Kolla om vi kan ***klassificera*** species i iris datasetet med hjälp av MLPclassifier.\n",
    "- Det här är ett ***\"Multi-Class Classification\"*** problem, eftersom det finns tre olika species av Iris.\n",
    "<br>\n",
    "### Steg för steg:\n",
    "- Läser in datasetet från Seaborn. OBS, samma dataset kan även importeras från SciKit-Learn, men då är X, y redan separerade (X=iris.data, y=iris.target)\n",
    "- Läser in nödvändiga delar från sklearn:  \n",
    "`from sklearn.model_selection import train_test_split`  \n",
    "`from sklearn.metrics import accuracy_score, classification_report`  \n",
    "`from sklearn.metrics import confusion_matrix`  \n",
    "`from sklearn.neural_network import MLPClassifier`  \n",
    "- Definierar X (oberoende variabler, features) och y (beroende variabel, target). Byter ut namnet på iris till 0, 1 eller 2 manuellt.  \n",
    "`iris['species'] = iris['species'].replace({'setosa': 0, 'versicolor': 1, 'virginica': 2})`\n",
    "- Definierar ett model-object:  \n",
    "`mlp_clf = MLPClassifier(hidden_layer_sizes=(5,), activation='relu', max_iter=1000, random_state=42)`\n",
    "- Tränar modellen med .fit  \n",
    "`model.fit(X_train, y_train)`\n",
    "- Använder den tränade modellen för att prediktera y_pred:  \n",
    "`y_pred = model.predict(X_test)`\n",
    "- Evaluerar modellen:  \n",
    "`print(f\"Accuracy: {accuracy_score(y_test, y_pred):.2f}\")`  \n",
    "`print(\"Classification Report:\")`  \n",
    "`print(classification_report(y_test, y_pred))`  \n",
    "- Visualiserar en Confusion Matrix med Seaborn\n",
    "- Visualiserar nätverket med en funktion som ChatGPT skrev till mig...\n",
    "## Noteringar / Lessons Learned\n",
    "- Den förstår själv att den ska ha 4 inputs och 3 outputs. Man definierar bara hur många neurons man vill ha per hidden layer.\n",
    "## Länkar:\n",
    "- "
   ]
  },
  {
   "cell_type": "code",
   "execution_count": 9,
   "metadata": {},
   "outputs": [],
   "source": [
    "import seaborn as sn\n",
    "import pandas as pd\n",
    "import matplotlib.pyplot as plt\n",
    "import sklearn as sk\n",
    "from sklearn.model_selection import train_test_split\n",
    "from sklearn.preprocessing import StandardScaler\n",
    "from sklearn.neural_network import MLPClassifier\n",
    "from sklearn.metrics import accuracy_score, classification_report\n",
    "from sklearn.metrics import confusion_matrix\n",
    "from seaborn import load_dataset\n",
    "import numpy as np\n",
    "#sn.get_dataset_names() # list of available datasets"
   ]
  },
  {
   "cell_type": "code",
   "execution_count": 2,
   "metadata": {},
   "outputs": [],
   "source": [
    "iris = load_dataset('iris') # load iris dataset as a pandas dataframe"
   ]
  },
  {
   "cell_type": "code",
   "execution_count": 4,
   "metadata": {},
   "outputs": [],
   "source": [
    "pd.set_option('future.no_silent_downcasting', True) # to avoid warning on deprecated 'replace' method\n",
    "iris['species'] = iris['species'].replace({'setosa': 0, 'versicolor': 1, 'virginica': 2})\n",
    "\n",
    "# Define X and y\n",
    "X = iris.drop(columns=['species'])\n",
    "y = iris[['species']]\n",
    "\n",
    "# Perform train/test split\n",
    "X_train, X_test, y_train, y_test = train_test_split(X, y, test_size=0.2, random_state=42)"
   ]
  },
  {
   "cell_type": "code",
   "execution_count": 5,
   "metadata": {},
   "outputs": [],
   "source": [
    "# convert y_train to 1D (numpy) array to avoid warning\n",
    "if not isinstance(y_train, np.ndarray):\n",
    "    y_train = y_train.values.ravel()\n",
    "    y_train = y_train.astype(int) # make sure y_train is of type int\n",
    "\n",
    "# convert y_test to 1D (numpy) array to avoid warning\n",
    "if not isinstance(y_test, np.ndarray):\n",
    "\ty_test = y_test.values.ravel()\n",
    "\ty_test = y_test.astype(int) # make sure y_test is of type int"
   ]
  },
  {
   "cell_type": "code",
   "execution_count": 30,
   "metadata": {},
   "outputs": [
    {
     "name": "stdout",
     "output_type": "stream",
     "text": [
      "Accuracy: 1.00\n",
      "Predictions: [1 0 2 1 1 0 1 2 1 1 2 0 0 0 0 1 2 1 1 2 0 2 0 2 2 2 2 2 0 0]\n"
     ]
    },
    {
     "name": "stderr",
     "output_type": "stream",
     "text": [
      "c:\\Users\\danie\\Documents\\GitHub\\Python-General-Learn\\.venv\\Lib\\site-packages\\sklearn\\neural_network\\_multilayer_perceptron.py:691: ConvergenceWarning: Stochastic Optimizer: Maximum iterations (1000) reached and the optimization hasn't converged yet.\n",
      "  warnings.warn(\n"
     ]
    }
   ],
   "source": [
    "# Standardize the features\n",
    "scaler = StandardScaler()\n",
    "X_train = scaler.fit_transform(X_train)\n",
    "X_test = scaler.transform(X_test)\n",
    "\n",
    "# Create and train the MLPClassifier\n",
    "mlp_clf = MLPClassifier(hidden_layer_sizes=(5,), activation='relu', max_iter=1000, random_state=42)\n",
    "mlp_clf.fit(X_train, y_train)\n",
    "\n",
    "# Predict using the trained model\n",
    "y_pred = mlp_clf.predict(X_test)\n",
    "\n",
    "# Evaluate the model\n",
    "accuracy = accuracy_score(y_test, y_pred)\n",
    "print(f\"Accuracy: {accuracy:.2f}\")\n",
    "\n",
    "# Print predictions\n",
    "print(\"Predictions:\", y_pred)"
   ]
  },
  {
   "cell_type": "markdown",
   "metadata": {},
   "source": [
    "Accuracy and Classification Report:"
   ]
  },
  {
   "cell_type": "code",
   "execution_count": 31,
   "metadata": {},
   "outputs": [
    {
     "name": "stdout",
     "output_type": "stream",
     "text": [
      "Accuracy: 1.00\n",
      "Classification Report:\n",
      "              precision    recall  f1-score   support\n",
      "\n",
      "           0       1.00      1.00      1.00        10\n",
      "           1       1.00      1.00      1.00         9\n",
      "           2       1.00      1.00      1.00        11\n",
      "\n",
      "    accuracy                           1.00        30\n",
      "   macro avg       1.00      1.00      1.00        30\n",
      "weighted avg       1.00      1.00      1.00        30\n",
      "\n"
     ]
    }
   ],
   "source": [
    "# Evaluate the model\n",
    "print(f\"Accuracy: {accuracy_score(y_test, y_pred):.2f}\")\n",
    "print(\"Classification Report:\")\n",
    "print(classification_report(y_test, y_pred))"
   ]
  },
  {
   "cell_type": "markdown",
   "metadata": {},
   "source": [
    "Confusin Matrix:"
   ]
  },
  {
   "cell_type": "code",
   "execution_count": 32,
   "metadata": {},
   "outputs": [
    {
     "data": {
      "text/plain": [
       "<Axes: >"
      ]
     },
     "execution_count": 32,
     "metadata": {},
     "output_type": "execute_result"
    },
    {
     "data": {
      "image/png": "[encoded data removed]",
      "text/plain": [
       "<Figure size 640x480 with 2 Axes>"
      ]
     },
     "metadata": {},
     "output_type": "display_data"
    }
   ],
   "source": [
    "cm = confusion_matrix(y_test, y_pred)\n",
    "sn.heatmap(cm, annot=True, fmt='d', cmap='Blues', xticklabels=['setosa', 'versicolor', 'virginica'], yticklabels=['setosa', 'versicolor', 'virginica'])"
   ]
  },
  {
   "cell_type": "markdown",
   "metadata": {},
   "source": [
    "Visualisera det neurala nätverket:  \n",
    "1. med en egen funktion"
   ]
  },
  {
   "cell_type": "code",
   "execution_count": 28,
   "metadata": {},
   "outputs": [],
   "source": [
    "def plot_neural_network(layer_sizes):\n",
    "    \"\"\"Funktion för att visualisera det neurala nätverket\"\"\"\n",
    "    fig, ax = plt.subplots(figsize=(10, 8))\n",
    "    \n",
    "    # Define spacing between layers and nodes\n",
    "    layer_spacing = 1.0\n",
    "    node_spacing = 1.0\n",
    "    max_nodes = max(layer_sizes)\n",
    "    \n",
    "    for i, layer_size in enumerate(layer_sizes):\n",
    "        for j in range(layer_size):\n",
    "            x = i * layer_spacing\n",
    "            y = j * node_spacing - max_nodes / 2.0\n",
    "            circle = plt.Circle((x, y), radius=0.1, fill=True, color='b')\n",
    "            ax.add_artist(circle)\n",
    "            plt.text(x, y + 0.1, f'L{i}-N{j}', ha='center') \n",
    "    \n",
    "    ax.set_xlim(-1, len(layer_sizes))\n",
    "    ax.set_ylim(-max_nodes, max_nodes)\n",
    "    ax.axis('off')\n",
    "    plt.title('Neural Network Visualization')\n",
    "    plt.show()"
   ]
  },
  {
   "cell_type": "code",
   "execution_count": 33,
   "metadata": {},
   "outputs": [],
   "source": [
    "# Get the layer sizes (input, hidden, and output)\n",
    "layer_sizes = [mlp_clf.coefs_[0].shape[0]] + [coef.shape[1] for coef in mlp_clf.coefs_]"
   ]
  },
  {
   "cell_type": "code",
   "execution_count": 34,
   "metadata": {},
   "outputs": [
    {
     "data": {
      "image/png": "[encoded data removed]",
      "text/plain": [
       "<Figure size 1000x800 with 1 Axes>"
      ]
     },
     "metadata": {},
     "output_type": "display_data"
    }
   ],
   "source": [
    "plot_neural_network(layer_sizes=layer_sizes)"
   ]
  }
 ],
 "metadata": {
  "kernelspec": {
   "display_name": ".venv",
   "language": "python",
   "name": "python3"
  },
  "language_info": {
   "codemirror_mode": {
    "name": "ipython",
    "version": 3
   },
   "file_extension": ".py",
   "mimetype": "text/x-python",
   "name": "python",
   "nbconvert_exporter": "python",
   "pygments_lexer": "ipython3",
   "version": "3.12.6"
  }
 },
 "nbformat": 4,
 "nbformat_minor": 2
}
